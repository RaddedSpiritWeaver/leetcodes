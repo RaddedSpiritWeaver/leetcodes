{
 "cells": [
  {
   "cell_type": "markdown",
   "metadata": {},
   "source": [
    "You are given a rows x cols matrix grid representing a field of cherries where grid[i][j] represents the number of cherries that you can collect from the (i, j) cell.\n",
    "\n",
    "You have two robots that can collect cherries for you:\n",
    "\n",
    "Robot #1 is located at the top-left corner (0, 0), and\n",
    "Robot #2 is located at the top-right corner (0, cols - 1).\n",
    "Return the maximum number of cherries collection using both robots by following the rules below:\n",
    "\n",
    "From a cell (i, j), robots can move to cell (i + 1, j - 1), (i + 1, j), or (i + 1, j + 1).\n",
    "When any robot passes through a cell, It picks up all cherries, and the cell becomes an empty cell.\n",
    "When both robots stay in the same cell, only one takes the cherries.\n",
    "Both robots cannot move outside of the grid at any moment.\n",
    "Both robots should reach the bottom row in grid."
   ]
  },
  {
   "cell_type": "markdown",
   "metadata": {},
   "source": [
    "# Brute Force"
   ]
  },
  {
   "cell_type": "code",
   "execution_count": 12,
   "metadata": {},
   "outputs": [],
   "source": [
    "#   TODO: should remove the shape thing and use a class maybe to store the value\n",
    "def get_valid_actions(field_shape: tuple, current_loc:tuple) -> list[tuple]:\n",
    "    \"\"\"\n",
    "    shapes are in (i, j) format\n",
    "    \"\"\"\n",
    "    result = []\n",
    "    next_i = current_loc[0] + 1\n",
    "    \n",
    "    #   check i\n",
    "    if next_i >= field_shape[0]:\n",
    "        return result\n",
    "    \n",
    "    for step in range(-1, 2):\n",
    "        next_j = current_loc[1] + step\n",
    "        #   check j\n",
    "        if next_j < 0 or next_j >= field_shape[1]:\n",
    "            continue\n",
    "        result.append((next_i, next_j))\n",
    "    \n",
    "    return result\n"
   ]
  },
  {
   "cell_type": "code",
   "execution_count": null,
   "metadata": {},
   "outputs": [],
   "source": [
    "#   test\n",
    "list_shape = (5,5)\n",
    "locs = [(0,0), (0,4), (1,3)]\n",
    "for x in locs:\n",
    "    print(get_valid_actions(list_shape,x))"
   ]
  },
  {
   "cell_type": "code",
   "execution_count": 22,
   "metadata": {},
   "outputs": [
    {
     "name": "stdout",
     "output_type": "stream",
     "text": [
      "[(0, 0), (1, 0), (2, 0), (3, 0), (4, 0)]\n",
      "[(0, 0), (1, 0), (2, 0), (3, 0), (4, 1)]\n",
      "[(0, 0), (1, 0), (2, 0), (3, 1), (4, 0)]\n",
      "[(0, 0), (1, 0), (2, 0), (3, 1), (4, 1)]\n",
      "[(0, 0), (1, 0), (2, 0), (3, 1), (4, 2)]\n",
      "[(0, 0), (1, 0), (2, 1), (3, 0), (4, 0)]\n",
      "[(0, 0), (1, 0), (2, 1), (3, 0), (4, 1)]\n",
      "[(0, 0), (1, 0), (2, 1), (3, 1), (4, 0)]\n",
      "[(0, 0), (1, 0), (2, 1), (3, 1), (4, 1)]\n",
      "[(0, 0), (1, 0), (2, 1), (3, 1), (4, 2)]\n",
      "[(0, 0), (1, 0), (2, 1), (3, 2), (4, 1)]\n",
      "[(0, 0), (1, 0), (2, 1), (3, 2), (4, 2)]\n",
      "[(0, 0), (1, 0), (2, 1), (3, 2), (4, 3)]\n",
      "[(0, 0), (1, 1), (2, 0), (3, 0), (4, 0)]\n",
      "[(0, 0), (1, 1), (2, 0), (3, 0), (4, 1)]\n",
      "[(0, 0), (1, 1), (2, 0), (3, 1), (4, 0)]\n",
      "[(0, 0), (1, 1), (2, 0), (3, 1), (4, 1)]\n",
      "[(0, 0), (1, 1), (2, 0), (3, 1), (4, 2)]\n",
      "[(0, 0), (1, 1), (2, 1), (3, 0), (4, 0)]\n",
      "[(0, 0), (1, 1), (2, 1), (3, 0), (4, 1)]\n",
      "[(0, 0), (1, 1), (2, 1), (3, 1), (4, 0)]\n",
      "[(0, 0), (1, 1), (2, 1), (3, 1), (4, 1)]\n",
      "[(0, 0), (1, 1), (2, 1), (3, 1), (4, 2)]\n",
      "[(0, 0), (1, 1), (2, 1), (3, 2), (4, 1)]\n",
      "[(0, 0), (1, 1), (2, 1), (3, 2), (4, 2)]\n",
      "[(0, 0), (1, 1), (2, 1), (3, 2), (4, 3)]\n",
      "[(0, 0), (1, 1), (2, 2), (3, 1), (4, 0)]\n",
      "[(0, 0), (1, 1), (2, 2), (3, 1), (4, 1)]\n",
      "[(0, 0), (1, 1), (2, 2), (3, 1), (4, 2)]\n",
      "[(0, 0), (1, 1), (2, 2), (3, 2), (4, 1)]\n",
      "[(0, 0), (1, 1), (2, 2), (3, 2), (4, 2)]\n",
      "[(0, 0), (1, 1), (2, 2), (3, 2), (4, 3)]\n",
      "[(0, 0), (1, 1), (2, 2), (3, 3), (4, 2)]\n",
      "[(0, 0), (1, 1), (2, 2), (3, 3), (4, 3)]\n",
      "[(0, 0), (1, 1), (2, 2), (3, 3), (4, 4)]\n"
     ]
    }
   ],
   "source": [
    "import copy\n",
    "#   should start at a given loc\n",
    "#   expand my next moves\n",
    "#   store the path that im taking\n",
    "list_shape = (5,5)\n",
    "paths = []\n",
    "\n",
    "def bfs(current_loc:tuple, path:list):\n",
    "    path.append(current_loc)\n",
    "    #   get next possible actions:\n",
    "    next_actions = get_valid_actions(list_shape, current_loc)\n",
    "    if not next_actions:\n",
    "        #   termination\n",
    "        paths.append(path)\n",
    "        return\n",
    "    \n",
    "    for action in next_actions:\n",
    "        #   important to use a new object and not the main reference\n",
    "        bfs(action, copy.copy(path))\n",
    "\n",
    "bfs((0,0),[])\n",
    "for x in paths:\n",
    "    print(x)"
   ]
  },
  {
   "cell_type": "code",
   "execution_count": 23,
   "metadata": {},
   "outputs": [
    {
     "ename": "SyntaxError",
     "evalue": "invalid syntax (4137536928.py, line 10)",
     "output_type": "error",
     "traceback": [
      "\u001b[0;36m  Cell \u001b[0;32mIn[23], line 10\u001b[0;36m\u001b[0m\n\u001b[0;31m    if s[i] is in pairs.keys():\u001b[0m\n\u001b[0m               ^\u001b[0m\n\u001b[0;31mSyntaxError\u001b[0m\u001b[0;31m:\u001b[0m invalid syntax\n"
     ]
    }
   ],
   "source": [
    "class Solution:\n",
    "    def isValid(self, s: str) -> bool:\n",
    "        pairs = {\n",
    "            '(':')',\n",
    "            '{':'}',\n",
    "            '[':']'\n",
    "        }\n",
    "        stack = []\n",
    "        for i in range(len(s)):\n",
    "            if s[i] in pairs.keys():\n",
    "                #   push\n",
    "                stack.append()\n",
    "                continue\n",
    "\n",
    "            #   else, pop\n",
    "            last_opened = stack.pop()\n",
    "            if pairs[last_opened] != s[i]:\n",
    "                return False\n",
    "\n",
    "        return True"
   ]
  }
 ],
 "metadata": {
  "kernelspec": {
   "display_name": ".env",
   "language": "python",
   "name": "python3"
  },
  "language_info": {
   "codemirror_mode": {
    "name": "ipython",
    "version": 3
   },
   "file_extension": ".py",
   "mimetype": "text/x-python",
   "name": "python",
   "nbconvert_exporter": "python",
   "pygments_lexer": "ipython3",
   "version": "3.9.7"
  }
 },
 "nbformat": 4,
 "nbformat_minor": 2
}
