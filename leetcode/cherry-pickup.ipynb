{
 "cells": [
  {
   "cell_type": "markdown",
   "metadata": {},
   "source": [
    "You are given a rows x cols matrix grid representing a field of cherries where grid[i][j] represents the number of cherries that you can collect from the (i, j) cell.\n",
    "\n",
    "You have two robots that can collect cherries for you:\n",
    "\n",
    "Robot #1 is located at the top-left corner (0, 0), and\n",
    "Robot #2 is located at the top-right corner (0, cols - 1).\n",
    "Return the maximum number of cherries collection using both robots by following the rules below:\n",
    "\n",
    "From a cell (i, j), robots can move to cell (i + 1, j - 1), (i + 1, j), or (i + 1, j + 1).\n",
    "When any robot passes through a cell, It picks up all cherries, and the cell becomes an empty cell.\n",
    "When both robots stay in the same cell, only one takes the cherries.\n",
    "Both robots cannot move outside of the grid at any moment.\n",
    "Both robots should reach the bottom row in grid."
   ]
  },
  {
   "cell_type": "markdown",
   "metadata": {},
   "source": [
    "# Brute Force"
   ]
  },
  {
   "cell_type": "code",
   "execution_count": 1,
   "metadata": {},
   "outputs": [],
   "source": [
    "import copy"
   ]
  },
  {
   "cell_type": "code",
   "execution_count": 2,
   "metadata": {},
   "outputs": [],
   "source": [
    "#   TODO: should remove the shape thing and use a class maybe to store the value\n",
    "def get_valid_actions(field_shape: tuple, current_loc:tuple, parent:bool) -> list[tuple]:\n",
    "    \"\"\"\n",
    "    shapes are in (i, j) format\n",
    "    \"\"\"\n",
    "    result = []\n",
    "    if not parent:\n",
    "        next_i = current_loc[0] + 1\n",
    "    else:\n",
    "        next_i = current_loc[0] - 1\n",
    "    \n",
    "    #   check i\n",
    "    if next_i >= field_shape[0] or next_i < 0:\n",
    "        return result\n",
    "    \n",
    "    for step in range(-1, 2):\n",
    "        next_j = current_loc[1] + step\n",
    "        #   check j\n",
    "        if next_j < 0 or next_j >= field_shape[1]:\n",
    "            continue\n",
    "        result.append((next_i, next_j))\n",
    "    \n",
    "    return result\n"
   ]
  },
  {
   "cell_type": "code",
   "execution_count": 6,
   "metadata": {},
   "outputs": [
    {
     "name": "stdout",
     "output_type": "stream",
     "text": [
      "[]\n",
      "[]\n",
      "[(0, 2), (0, 3), (0, 4)]\n"
     ]
    }
   ],
   "source": [
    "#   test\n",
    "list_shape = (5,5)\n",
    "locs = [(0,0), (0,4), (1,3)]\n",
    "for x in locs:\n",
    "    print(get_valid_actions(list_shape,x, True))"
   ]
  },
  {
   "cell_type": "code",
   "execution_count": null,
   "metadata": {},
   "outputs": [],
   "source": [
    "#   should start at a given loc\n",
    "#   expand my next moves\n",
    "#   store the path that im taking\n",
    "list_shape = (5,5)\n",
    "paths = []\n",
    "\n",
    "def bfs(current_loc:tuple, path:list):\n",
    "    path.append(current_loc)\n",
    "    #   get next possible actions:\n",
    "    next_actions = get_valid_actions(list_shape, current_loc)\n",
    "    if not next_actions:\n",
    "        #   termination\n",
    "        paths.append(path)\n",
    "        return\n",
    "    \n",
    "    for action in next_actions:\n",
    "        #   important to use a new object and not the main reference\n",
    "        bfs(action, copy.copy(path))\n",
    "\n",
    "bfs((0,0),[])\n",
    "for x in paths:\n",
    "    print(x)"
   ]
  },
  {
   "cell_type": "code",
   "execution_count": 11,
   "metadata": {},
   "outputs": [],
   "source": [
    "a = [1]\n",
    "\n",
    "if not a:\n",
    "    print(\"!!!\")"
   ]
  },
  {
   "cell_type": "markdown",
   "metadata": {},
   "source": [
    "#   DP Approach"
   ]
  },
  {
   "cell_type": "code",
   "execution_count": 22,
   "metadata": {},
   "outputs": [],
   "source": [
    "#   single agent\n",
    "def build_max_paths(board: list[list[int]]):\n",
    "    paths = {}\n",
    "    board_shape = (len(board), len(board[0]))\n",
    "    max_rewards = [[0] * board_shape[1] for _ in range(board_shape[0])]\n",
    "    frontier = []\n",
    "    frontier.append((0,0))\n",
    "    #   since we are using a queue we are going bfs which, since we need the parents data for the next layer\n",
    "    #   while there is a node in the frontier\n",
    "    while frontier:\n",
    "        node = frontier.pop(0)\n",
    "        \n",
    "        #   get the parents\n",
    "        parent_nodes = get_valid_actions(board_shape, node, parent=True)\n",
    "        \n",
    "        if parent_nodes:\n",
    "            #   select the max parent and make the path\n",
    "            max_parent_val = -1\n",
    "            max_parent = None\n",
    "            for parent in parent_nodes:\n",
    "                if max_rewards[parent[0]][parent[1]] > max_parent_val:\n",
    "                    max_parent = parent\n",
    "                    max_parent_val = max_rewards[parent[0]][parent[1]]\n",
    "        \n",
    "            #   for i_j key format\n",
    "            key = f\"{max_parent[0]}_{max_parent[1]}\"\n",
    "            parent_path = paths[key]\n",
    "            node_path = copy.copy(parent_path)\n",
    "            node_path.append(node)\n",
    "                \n",
    "            node_max_reward = max_parent_val + board[node[0]][node[1]]\n",
    "            max_rewards[node[0]][node[1]] = node_max_reward\n",
    "            print(f\"max reward added for {node}: {node_max_reward}\")\n",
    "        else:\n",
    "            #   basically for the first level\n",
    "            max_rewards[node[0]][node[1]] = board[node[0]][node[1]]\n",
    "            print(f\"max reward added for {node}: {board[node[0]][node[1]]}\")\n",
    "            node_path = [node]\n",
    "        \n",
    "        #   update paths and max values for the node coordinates\n",
    "        \n",
    "        node_key = f\"{node[0]}_{node[1]}\"\n",
    "        paths[node_key] = node_path\n",
    "        print(f\"adding node path for key:{node_key} : {node_path}\")\n",
    "        #   get the children and add them to frontier\n",
    "        children = get_valid_actions(board_shape, node, parent=False)\n",
    "        frontier = frontier + children\n",
    "        \n",
    "    return paths, max_rewards\n",
    "        "
   ]
  },
  {
   "cell_type": "code",
   "execution_count": 24,
   "metadata": {},
   "outputs": [
    {
     "name": "stdout",
     "output_type": "stream",
     "text": [
      "max reward added for (0, 0): 3\n",
      "adding node path for key:0_0 : [(0, 0)]\n",
      "max reward added for (1, 0): 5\n",
      "adding node path for key:1_0 : None\n",
      "max reward added for (1, 1): 8\n",
      "adding node path for key:1_1 : None\n"
     ]
    },
    {
     "ename": "AttributeError",
     "evalue": "'NoneType' object has no attribute 'append'",
     "output_type": "error",
     "traceback": [
      "\u001b[0;31m---------------------------------------------------------------------------\u001b[0m",
      "\u001b[0;31mAttributeError\u001b[0m                            Traceback (most recent call last)",
      "Cell \u001b[0;32mIn[24], line 3\u001b[0m\n\u001b[1;32m      1\u001b[0m board \u001b[38;5;241m=\u001b[39m [[\u001b[38;5;241m3\u001b[39m,\u001b[38;5;241m1\u001b[39m,\u001b[38;5;241m1\u001b[39m],[\u001b[38;5;241m2\u001b[39m,\u001b[38;5;241m5\u001b[39m,\u001b[38;5;241m1\u001b[39m],[\u001b[38;5;241m1\u001b[39m,\u001b[38;5;241m5\u001b[39m,\u001b[38;5;241m5\u001b[39m],[\u001b[38;5;241m2\u001b[39m,\u001b[38;5;241m1\u001b[39m,\u001b[38;5;241m1\u001b[39m]]\n\u001b[0;32m----> 3\u001b[0m paths, max_rewards \u001b[38;5;241m=\u001b[39m \u001b[43mbuild_max_paths\u001b[49m\u001b[43m(\u001b[49m\u001b[43mboard\u001b[49m\u001b[43m)\u001b[49m\n\u001b[1;32m      5\u001b[0m \u001b[38;5;28mprint\u001b[39m(paths)\n\u001b[1;32m      6\u001b[0m \u001b[38;5;28mprint\u001b[39m(max_rewards)\n",
      "Cell \u001b[0;32mIn[22], line 28\u001b[0m, in \u001b[0;36mbuild_max_paths\u001b[0;34m(board)\u001b[0m\n\u001b[1;32m     26\u001b[0m key \u001b[38;5;241m=\u001b[39m \u001b[38;5;124mf\u001b[39m\u001b[38;5;124m\"\u001b[39m\u001b[38;5;132;01m{\u001b[39;00mmax_parent[\u001b[38;5;241m0\u001b[39m]\u001b[38;5;132;01m}\u001b[39;00m\u001b[38;5;124m_\u001b[39m\u001b[38;5;132;01m{\u001b[39;00mmax_parent[\u001b[38;5;241m1\u001b[39m]\u001b[38;5;132;01m}\u001b[39;00m\u001b[38;5;124m\"\u001b[39m\n\u001b[1;32m     27\u001b[0m parent_path \u001b[38;5;241m=\u001b[39m paths[key]\n\u001b[0;32m---> 28\u001b[0m node_path \u001b[38;5;241m=\u001b[39m \u001b[43mcopy\u001b[49m\u001b[38;5;241;43m.\u001b[39;49m\u001b[43mcopy\u001b[49m\u001b[43m(\u001b[49m\u001b[43mparent_path\u001b[49m\u001b[43m)\u001b[49m\u001b[38;5;241;43m.\u001b[39;49m\u001b[43mappend\u001b[49m(node)\n\u001b[1;32m     30\u001b[0m node_max_reward \u001b[38;5;241m=\u001b[39m max_parent_val \u001b[38;5;241m+\u001b[39m board[node[\u001b[38;5;241m0\u001b[39m]][node[\u001b[38;5;241m1\u001b[39m]]\n\u001b[1;32m     31\u001b[0m max_rewards[node[\u001b[38;5;241m0\u001b[39m]][node[\u001b[38;5;241m1\u001b[39m]] \u001b[38;5;241m=\u001b[39m node_max_reward\n",
      "\u001b[0;31mAttributeError\u001b[0m: 'NoneType' object has no attribute 'append'"
     ]
    }
   ],
   "source": [
    "board = [[3,1,1],[2,5,1],[1,5,5],[2,1,1]]\n",
    "\n",
    "paths, max_rewards = build_max_paths(board)\n",
    "\n",
    "print(paths)\n",
    "print(max_rewards)"
   ]
  }
 ],
 "metadata": {
  "kernelspec": {
   "display_name": ".env",
   "language": "python",
   "name": "python3"
  },
  "language_info": {
   "codemirror_mode": {
    "name": "ipython",
    "version": 3
   },
   "file_extension": ".py",
   "mimetype": "text/x-python",
   "name": "python",
   "nbconvert_exporter": "python",
   "pygments_lexer": "ipython3",
   "version": "3.9.7"
  }
 },
 "nbformat": 4,
 "nbformat_minor": 2
}
